{
 "cells": [
  {
   "cell_type": "code",
   "execution_count": null,
   "id": "54eddbf8",
   "metadata": {},
   "outputs": [],
   "source": [
    "File Handling - Programming Assignment"
   ]
  },
  {
   "cell_type": "code",
   "execution_count": null,
   "id": "0743532d",
   "metadata": {},
   "outputs": [],
   "source": [
    "Write a statement in Python to perform the following operations\n",
    "To open a text file “MYPT.TXT” in write mode\n",
    "To open a text file“MYPT.TXT” in read mode"
   ]
  },
  {
   "cell_type": "code",
   "execution_count": 163,
   "id": "b99c73bf",
   "metadata": {},
   "outputs": [
    {
     "name": "stdout",
     "output_type": "stream",
     "text": [
      "Woops\n"
     ]
    }
   ],
   "source": [
    "f = open(\"MYPT.txt\", \"w\")\n",
    "f.write(\"Woops! I have deleted the content!\")\n",
    "f= open(\"MYPT.txt\",\"r\")\n",
    "print(f.read(5))\n",
    "f.close()"
   ]
  },
  {
   "cell_type": "code",
   "execution_count": 11,
   "id": "1f167a0a",
   "metadata": {},
   "outputs": [
    {
     "name": "stdout",
     "output_type": "stream",
     "text": [
      "Mode is an optional parameter that defines the file opening method\n"
     ]
    },
    {
     "data": {
      "text/plain": [
       "\"\\nMode\\tDescription\\n'r'\\tReads from a file and returns an error if the file does not exist (default).\\n'w'\\tWrites to a file and creates the file if it does not exist or overwrites an existing file.\\n'x'\\tExclusive creation that fails if the file already exists.\\n'a'\\tAppends to a file and creates the file if it does not exist or overwrites an existing file.\\n'b'\\tBinary mode. Use this mode for non-textual files, such as images.\\n't'\\tText mode. Use only for textual files (default).\\n'+'\\tActivates read and write methods.\\n\""
      ]
     },
     "execution_count": 11,
     "metadata": {},
     "output_type": "execute_result"
    }
   ],
   "source": [
    "#What is file mode? Name the default file mode.\n",
    "\n",
    "print(\"Mode is an optional parameter that defines the file opening method\")\n",
    "\"\"\"\n",
    "Mode\tDescription\n",
    "'r'\tReads from a file and returns an error if the file does not exist (default).\n",
    "'w'\tWrites to a file and creates the file if it does not exist or overwrites an existing file.\n",
    "'x'\tExclusive creation that fails if the file already exists.\n",
    "'a'\tAppends to a file and creates the file if it does not exist or overwrites an existing file.\n",
    "'b'\tBinary mode. Use this mode for non-textual files, such as images.\n",
    "'t'\tText mode. Use only for textual files (default).\n",
    "'+'\tActivates read and write methods.\n",
    "\"\"\""
   ]
  },
  {
   "cell_type": "code",
   "execution_count": 167,
   "id": "7df229b1",
   "metadata": {},
   "outputs": [
    {
     "name": "stdout",
     "output_type": "stream",
     "text": [
      "Welcome! Please have a seat\n"
     ]
    }
   ],
   "source": [
    "#Write a statement to write the string”Welcome! Please have a seat” in the file wel.txt, \n",
    "#that has not yet been created.\n",
    "f=open(\"/Users/deekshamishra/Documents/EKEEDA/Vishakha/Seat.txt\",\"w\")\n",
    "f.write(\"Welcome! Please have a seat\")\n",
    "f.close()\n",
    "f=open(\"/Users/deekshamishra/Documents/EKEEDA/Vishakha/Seat.txt\",\"r\")\n",
    "print(f.read())\n",
    "\n"
   ]
  },
  {
   "cell_type": "code",
   "execution_count": 181,
   "id": "dccd9fd8",
   "metadata": {},
   "outputs": [
    {
     "name": "stdout",
     "output_type": "stream",
     "text": [
      "Number of characters: 62\n",
      "Number of words: 6\n",
      "Number of lines: 1\n"
     ]
    }
   ],
   "source": [
    "#How do you find no of characters, now of words or number of lines in Python text file?\n",
    "with open('Python1.txt', 'w') as file:\n",
    "    file.write('Hello, world!' \"Deeksha Mishra\" \"Archana Mishra\"\"Pragyila Kumar Mishra\")\n",
    "    \n",
    "with open('Python1.txt', 'r') as file:\n",
    "    data = file.read()\n",
    "    \n",
    "    # Number of characters\n",
    "    num_chars = len(data)\n",
    "    \n",
    "    # Number of words\n",
    "    num_words = len(data.split())\n",
    "    \n",
    "    # Number of lines\n",
    "    num_lines = num_lines = len(data.split('\\n'))\n",
    "    \n",
    "print(f\"Number of characters: {num_chars}\")\n",
    "print(f\"Number of words: {num_words}\")\n",
    "print(f\"Number of lines: {num_lines}\")"
   ]
  },
  {
   "cell_type": "code",
   "execution_count": null,
   "id": "df401891",
   "metadata": {},
   "outputs": [],
   "source": [
    "Write a statement in Python to perform the following operations\n",
    "To open a binary file “LOG.DAT” in read mode\n",
    "To open a binary file“LOG.DAT” in write mode"
   ]
  },
  {
   "cell_type": "code",
   "execution_count": 169,
   "id": "1d33a6cf",
   "metadata": {},
   "outputs": [
    {
     "name": "stdout",
     "output_type": "stream",
     "text": [
      "0x41\n",
      "0x42\n",
      "0x43\n",
      "0x44\n",
      "0x45\n"
     ]
    }
   ],
   "source": [
    "# Open the binary file in write mode\n",
    "with open('LOG.DAT', 'wb') as file:\n",
    "    \n",
    "    # Create a bytes object to write to the file\n",
    "    data = bytes([0x41, 0x42, 0x43, 0x44, 0x45])\n",
    "    \n",
    "    # Write the bytes to the file\n",
    "    file.write(data)\n",
    "\n",
    "with open('LOG.DAT','rb') as file:\n",
    "    \n",
    "    # Read the contents of the file into a bytes object\n",
    "    data = file.read()\n",
    "    \n",
    "    # Print the bytes as hexadecimal values\n",
    "    for byte in data:\n",
    "        print(hex(byte))"
   ]
  },
  {
   "cell_type": "code",
   "execution_count": 11,
   "id": "99a5ee80",
   "metadata": {},
   "outputs": [
    {
     "name": "stdout",
     "output_type": "stream",
     "text": [
      "This is DAT file,Read this file in read mode\n"
     ]
    }
   ],
   "source": [
    "f = open(\"LOG.DAT\", \"r\")\n",
    "print(f.read())"
   ]
  },
  {
   "cell_type": "code",
   "execution_count": 55,
   "id": "6bfc61b0",
   "metadata": {},
   "outputs": [
    {
     "ename": "SyntaxError",
     "evalue": "invalid syntax (2836112307.py, line 1)",
     "output_type": "error",
     "traceback": [
      "\u001b[0;36m  File \u001b[0;32m\"/var/folders/w_/765j2n31625b_2mqy83l310r0000gn/T/ipykernel_93483/2836112307.py\"\u001b[0;36m, line \u001b[0;32m1\u001b[0m\n\u001b[0;31m    Write a program to count the words “to” and “the” present in a text file “python.txt”.\u001b[0m\n\u001b[0m          ^\u001b[0m\n\u001b[0;31mSyntaxError\u001b[0m\u001b[0;31m:\u001b[0m invalid syntax\n"
     ]
    }
   ],
   "source": [
    "Write a program to count the words “to” and “the” present in a text file “python.txt”."
   ]
  },
  {
   "cell_type": "code",
   "execution_count": 111,
   "id": "291e1f7a",
   "metadata": {},
   "outputs": [
    {
     "name": "stdout",
     "output_type": "stream",
     "text": [
      "33\n",
      "This is the the and to tito to to\n",
      "Occurrences of 'to' in python1.txt: 3\n",
      "Occurrences of 'the' in python1.txt: 2\n"
     ]
    }
   ],
   "source": [
    "k=open(\"python1.txt\",\"a\")\n",
    "print(k.write(\"This is the the and to tito to to\"))\n",
    "k.close()\n",
    "\n",
    "\n",
    "to_count = 0\n",
    "the_count = 0\n",
    "\n",
    "with open(filename, 'r') as file:\n",
    "    # read the file line by line\n",
    "    for line in file:\n",
    "        # split the line into words\n",
    "        print(line)\n",
    "        words = line.split()\n",
    "        \n",
    "        # count the occurrences of 'to' and 'the' in the line\n",
    "        to_count += words.count(\"to\")\n",
    "        the_count += words.count(\"the\")\n",
    "        \n",
    "print(f\"Occurrences of 'to' in {filename}: {to_count}\")\n",
    "print(f\"Occurrences of 'the' in {filename}: {the_count}\")"
   ]
  },
  {
   "cell_type": "code",
   "execution_count": 143,
   "id": "8a28185b",
   "metadata": {},
   "outputs": [],
   "source": [
    "#Write a program to display all the lines in a file “python.txt” along with line/record number."
   ]
  },
  {
   "cell_type": "code",
   "execution_count": 173,
   "id": "31cab8bc",
   "metadata": {},
   "outputs": [
    {
     "name": "stdout",
     "output_type": "stream",
     "text": [
      "Line 1: ['deeksha,nidhi,pragyila,archana']\n",
      "Line 2: ['dikkutidda']\n",
      "Line 3: ['deeksha']\n",
      "Line 4: ['nidhi']\n",
      "Line 5: ['pragyila']\n",
      "Line 6: ['archana']\n",
      "Line 7: ['dikkutidda']\n",
      "Line 8: ['deeksha']\n",
      "Line 9: ['nidhi']\n",
      "Line 10: ['pragyila']\n",
      "Line 11: ['archana']\n",
      "Line 12: ['dikkutidda']\n",
      "Line 13: ['deeksha']\n",
      "Line 14: ['nidhi']\n",
      "Line 15: ['pragyila']\n",
      "Line 16: ['archana']\n",
      "Line 17: ['dikkutidda']\n",
      "Line 18: ['deeksha']\n",
      "Line 19: ['nidhi']\n",
      "Line 20: ['pragyila']\n",
      "Line 21: ['archana']\n",
      "Line 22: ['dikkutidda']\n",
      "Line 23: ['deeksha']\n",
      "Line 24: ['nidhi']\n",
      "Line 25: ['pragyila']\n",
      "Line 26: ['archana']\n",
      "Line 27: ['dikkutidda']\n",
      "Line 28: ['deeksha']\n",
      "Line 29: ['nidhi']\n",
      "Line 30: ['pragyila']\n",
      "Line 31: ['archana']\n",
      "Line 32: ['dikkutidda']\n",
      "Line 33: ['deeksha']\n",
      "Line 34: ['nidhi']\n",
      "Line 35: ['pragyila']\n",
      "Line 36: ['archana']\n",
      "Line 37: ['dikkutidda']\n",
      "Line 38: ['deeksha']\n",
      "Line 39: ['nidhi']\n",
      "Line 40: ['pragyila']\n",
      "Line 41: ['archana']\n",
      "Line 42: ['dikkutidda']\n",
      "Line 43: ['deeksha']\n",
      "Line 44: ['nidhi']\n",
      "Line 45: ['pragyila']\n",
      "Line 46: ['archana']\n",
      "Line 47: ['dikkutidda']\n",
      "Line 48: ['deeksha']\n",
      "Line 49: ['nidhi']\n",
      "Line 50: ['pragyila']\n",
      "Line 51: ['archana']\n",
      "Line 52: ['dikkutidda']\n",
      "Line 53: ['deeksha']\n",
      "Line 54: ['nidhi']\n",
      "Line 55: ['pragyila']\n",
      "Line 56: ['archana']\n",
      "Line 57: ['dikkutidda']\n",
      "Line 58: ['deeksha']\n",
      "Line 59: ['nidhi']\n",
      "Line 60: ['pragyila']\n",
      "Line 61: ['archana']\n",
      "Line 62: ['dikkutidda']\n"
     ]
    }
   ],
   "source": [
    "with open(\"python.txt\", \"a\") as record:\n",
    "    entry = [\"deeksha\", \"nidhi\", \"pragyila\", \"archana\", \"dikkutidda\"]\n",
    "    for i in entry:\n",
    "        record.write(i + \"\\n\")\n",
    "\n",
    "with open('python.txt', 'r') as record2:\n",
    "    for i, line in enumerate(record2, 1):\n",
    "        print(f\"Line {i}: {line.split()}\")"
   ]
  },
  {
   "cell_type": "code",
   "execution_count": null,
   "id": "bf7ec2d9",
   "metadata": {},
   "outputs": [],
   "source": [
    "Write a program to display all the lines in a file “python.txt” which have the word “to” in it."
   ]
  },
  {
   "cell_type": "code",
   "execution_count": 174,
   "id": "dcb8c028",
   "metadata": {},
   "outputs": [
    {
     "name": "stdout",
     "output_type": "stream",
     "text": [
      "This is to the first line.\n",
      "\n",
      "This is to the second line.\n",
      "\n"
     ]
    }
   ],
   "source": [
    "New=open(\"example.txt\", \"a\")\n",
    "    # Write multiple lines to the file using a loop\n",
    "lines = [\"This is to the first line.\", \"This is to the second line.\", \"This is the third line.\"]\n",
    "for line in lines:\n",
    "    New.write(line + \"\\n\")\n",
    "New.close()\n",
    "with open(\"example.txt\", \"r\") as file1:\n",
    "    # Loop over each line in the file\n",
    "    for line in file1:\n",
    "        # Check if the line contains the word \"to\"\n",
    "        if \"to\" in line:\n",
    "            # If the line contains the word \"to\", print it\n",
    "            print(line)"
   ]
  },
  {
   "cell_type": "code",
   "execution_count": 120,
   "id": "e62e5f3f",
   "metadata": {},
   "outputs": [
    {
     "ename": "SyntaxError",
     "evalue": "invalid syntax (3317606171.py, line 1)",
     "output_type": "error",
     "traceback": [
      "\u001b[0;36m  File \u001b[0;32m\"/var/folders/w_/765j2n31625b_2mqy83l310r0000gn/T/ipykernel_93483/3317606171.py\"\u001b[0;36m, line \u001b[0;32m1\u001b[0m\n\u001b[0;31m    Observe the following code and answer the question that follow:\u001b[0m\n\u001b[0m            ^\u001b[0m\n\u001b[0;31mSyntaxError\u001b[0m\u001b[0;31m:\u001b[0m invalid syntax\n"
     ]
    }
   ],
   "source": [
    "Observe the following code and answer the question that follow:\n",
    "File=open(“Mydata”,”a”)\n",
    "____________# Blank 1\n",
    "File.close()\n",
    "What type (Text/Binary) of file is Mydata?\n",
    "Fill the Blank 1 with statement to write ”ABC” in the file ”Mydata”."
   ]
  },
  {
   "cell_type": "code",
   "execution_count": 154,
   "id": "fd17f1ea",
   "metadata": {},
   "outputs": [
    {
     "name": "stdout",
     "output_type": "stream",
     "text": [
      "ABC\n"
     ]
    }
   ],
   "source": [
    "File=open(\"Mydata.txt\",\"w\")\n",
    "File.write(\"ABC\")\n",
    "File.close()\n",
    "\n",
    "with open(\"Mydata.txt\",\"r\") as Mydataread :\n",
    "    print(Mydataread.read())"
   ]
  },
  {
   "cell_type": "code",
   "execution_count": null,
   "id": "ae1b2703",
   "metadata": {},
   "outputs": [],
   "source": [
    "What are the differentiate File Attributes in Python?"
   ]
  },
  {
   "cell_type": "code",
   "execution_count": null,
   "id": "4266e45a",
   "metadata": {},
   "outputs": [],
   "source": [
    "print(\"Mode is an optional parameter that defines the file opening method\")\n",
    "\"\"\"\n",
    "Mode\tDescription\n",
    "'r'\tReads from a file and returns an error if the file does not exist (default).\n",
    "'w'\tWrites to a file and creates the file if it does not exist or overwrites an existing file.\n",
    "'x'\tExclusive creation that fails if the file already exists.\n",
    "'a'\tAppends to a file and creates the file if it does not exist or overwrites an existing file.\n",
    "'b'\tBinary mode. Use this mode for non-textual files, such as images.\n",
    "'t'\tText mode. Use only for textual files (default).\n",
    "'+'\tAct"
   ]
  },
  {
   "cell_type": "code",
   "execution_count": null,
   "id": "38510488",
   "metadata": {},
   "outputs": [],
   "source": [
    "Write a code to get the match.sqrt function documentation:"
   ]
  },
  {
   "cell_type": "code",
   "execution_count": 90,
   "id": "aaa95f14",
   "metadata": {},
   "outputs": [
    {
     "name": "stdout",
     "output_type": "stream",
     "text": [
      "3.0\n",
      "5.0\n",
      "4.0\n"
     ]
    }
   ],
   "source": [
    "import math \n",
    "'''\n",
    "For using Square root Function \n",
    "Step1: First we need to import \n",
    "the maths library.\n",
    "'''\n",
    "print (math.sqrt(9))\n",
    "print (math.sqrt(25))\n",
    "print (math.sqrt(16))"
   ]
  },
  {
   "cell_type": "code",
   "execution_count": null,
   "id": "dfea3da0",
   "metadata": {},
   "outputs": [],
   "source": [
    "Write a code to create your own function for adding two number and add custom docstring inside the function. And then print your function documentation."
   ]
  },
  {
   "cell_type": "code",
   "execution_count": 3,
   "id": "e054050f",
   "metadata": {},
   "outputs": [
    {
     "ename": "SyntaxError",
     "evalue": "invalid syntax (653405338.py, line 7)",
     "output_type": "error",
     "traceback": [
      "\u001b[0;36m  File \u001b[0;32m\"/var/folders/w_/765j2n31625b_2mqy83l310r0000gn/T/ipykernel_34355/653405338.py\"\u001b[0;36m, line \u001b[0;32m7\u001b[0m\n\u001b[0;31m    result=return(x+y)\u001b[0m\n\u001b[0m           ^\u001b[0m\n\u001b[0;31mSyntaxError\u001b[0m\u001b[0;31m:\u001b[0m invalid syntax\n"
     ]
    }
   ],
   "source": [
    "def add(x,y):\n",
    "    '''\n",
    "    Step1: Create a function Add\n",
    "    Step2:Return the result\n",
    "    Step: Call the function\n",
    "    '''\n",
    "    result=return(x+y)\n",
    "print(result)\n",
    "add(5,3)"
   ]
  },
  {
   "cell_type": "code",
   "execution_count": null,
   "id": "2234b22d",
   "metadata": {},
   "outputs": [],
   "source": [
    "Write a code to create your own function for adding two number and add custom docstring inside the function.\n",
    "And then print your function documentation without __doc__."
   ]
  },
  {
   "cell_type": "code",
   "execution_count": 152,
   "id": "407b004e",
   "metadata": {},
   "outputs": [
    {
     "name": "stdout",
     "output_type": "stream",
     "text": [
      "\n",
      "    Adds two numbers together and returns the result.\n",
      "\n",
      "    :param x: The first number to add.\n",
      "    :param y: The second number to add.\n",
      "    :return: The sum of x and y.\n",
      "    \n",
      "Help on function add_numbers in module __main__:\n",
      "\n",
      "add_numbers(x, y)\n",
      "    Adds two numbers together and returns the result.\n",
      "    \n",
      "    :param x: The first number to add.\n",
      "    :param y: The second number to add.\n",
      "    :return: The sum of x and y.\n",
      "\n"
     ]
    }
   ],
   "source": [
    "def add_numbers(x, y):\n",
    "    \"\"\"\n",
    "    Adds two numbers together and returns the result.\n",
    "\n",
    "    :param x: The first number to add.\n",
    "    :param y: The second number to add.\n",
    "    :return: The sum of x and y.\n",
    "    \"\"\"\n",
    "    return x + y\n",
    "print(add_numbers.__doc__)\n",
    "help(add_numbers)"
   ]
  },
  {
   "cell_type": "code",
   "execution_count": null,
   "id": "411b1fbd",
   "metadata": {},
   "outputs": [],
   "source": [
    "Write a code for one liner documentionf or a custom function"
   ]
  },
  {
   "cell_type": "code",
   "execution_count": 108,
   "id": "82c0ccda",
   "metadata": {},
   "outputs": [
    {
     "name": "stdout",
     "output_type": "stream",
     "text": [
      "15\n"
     ]
    }
   ],
   "source": [
    "def add_numbers(x, y):\n",
    "    \"\"\"Adds two numbers together and returns the result.\"\"\"\n",
    "    return x + y\n",
    "result = add_numbers(5, 10)\n",
    "print(result)  "
   ]
  },
  {
   "cell_type": "code",
   "execution_count": null,
   "id": "ac3c0886",
   "metadata": {},
   "outputs": [],
   "source": [
    "Write a multi-line Docstrings code?"
   ]
  },
  {
   "cell_type": "code",
   "execution_count": 110,
   "id": "01deca8d",
   "metadata": {
    "scrolled": true
   },
   "outputs": [
    {
     "data": {
      "text/plain": [
       "4.5"
      ]
     },
     "execution_count": 110,
     "metadata": {},
     "output_type": "execute_result"
    }
   ],
   "source": [
    "def calculate_average(*numbers):\n",
    "    \"\"\"\n",
    "    Calculates the average of a list of numbers.\n",
    "\n",
    "    :param numbers: A list of numbers to calculate the average of.\n",
    "    :return: The average of the numbers in the list.\n",
    "    :raises ValueError: If the list is empty.\n",
    "    \"\"\"\n",
    "    if not numbers:\n",
    "        raise ValueError(\"Cannot calculate average of empty list\")\n",
    "    return sum(numbers) / len(numbers)\n",
    "\n",
    "calculate_average(3,4,5,6)"
   ]
  },
  {
   "cell_type": "code",
   "execution_count": null,
   "id": "40fe82f5",
   "metadata": {},
   "outputs": [],
   "source": [
    "Write a simple code to make a package that contains modules\n",
    "a.py & b.py & __init__.py"
   ]
  },
  {
   "cell_type": "code",
   "execution_count": 4,
   "id": "42e8f337",
   "metadata": {},
   "outputs": [
    {
     "name": "stdout",
     "output_type": "stream",
     "text": [
      "mkdir: mypackage: File exists\r\n"
     ]
    }
   ],
   "source": [
    "%mkdir mypackage"
   ]
  },
  {
   "cell_type": "code",
   "execution_count": 8,
   "id": "e7b0f55a",
   "metadata": {},
   "outputs": [
    {
     "ename": "NameError",
     "evalue": "name 'a' is not defined",
     "output_type": "error",
     "traceback": [
      "\u001b[0;31m---------------------------------------------------------------------------\u001b[0m",
      "\u001b[0;31mNameError\u001b[0m                                 Traceback (most recent call last)",
      "\u001b[0;32m/var/folders/w_/765j2n31625b_2mqy83l310r0000gn/T/ipykernel_34355/2170564110.py\u001b[0m in \u001b[0;36m<module>\u001b[0;34m\u001b[0m\n\u001b[0;32m----> 1\u001b[0;31m \u001b[0;32mfrom\u001b[0m \u001b[0mmypackage\u001b[0m \u001b[0;32mimport\u001b[0m \u001b[0ma\u001b[0m\u001b[0;34m\u001b[0m\u001b[0;34m\u001b[0m\u001b[0m\n\u001b[0m\u001b[1;32m      2\u001b[0m \u001b[0madd\u001b[0m\u001b[0;34m(\u001b[0m\u001b[0;36m5\u001b[0m\u001b[0;34m,\u001b[0m\u001b[0;36m3\u001b[0m\u001b[0;34m)\u001b[0m\u001b[0;34m\u001b[0m\u001b[0;34m\u001b[0m\u001b[0m\n\u001b[1;32m      3\u001b[0m \u001b[0;32mfrom\u001b[0m \u001b[0mmypackage\u001b[0m \u001b[0;32mimport\u001b[0m \u001b[0mb\u001b[0m\u001b[0;34m\u001b[0m\u001b[0;34m\u001b[0m\u001b[0m\n\u001b[1;32m      4\u001b[0m \u001b[0msub\u001b[0m\u001b[0;34m(\u001b[0m\u001b[0;36m5\u001b[0m\u001b[0;34m,\u001b[0m\u001b[0;36m3\u001b[0m\u001b[0;34m)\u001b[0m\u001b[0;34m\u001b[0m\u001b[0;34m\u001b[0m\u001b[0m\n",
      "\u001b[0;32m~/Documents/EKEEDA/Quiz Assignment/mypackage/__init__.py\u001b[0m in \u001b[0;36m<module>\u001b[0;34m\u001b[0m\n\u001b[0;32m----> 1\u001b[0;31m \u001b[0ma\u001b[0m\u001b[0;34m.\u001b[0m\u001b[0mpy\u001b[0m\u001b[0;34m\u001b[0m\u001b[0;34m\u001b[0m\u001b[0m\n\u001b[0m\u001b[1;32m      2\u001b[0m \u001b[0mb\u001b[0m\u001b[0;34m.\u001b[0m\u001b[0mpy\u001b[0m\u001b[0;34m\u001b[0m\u001b[0;34m\u001b[0m\u001b[0m\n",
      "\u001b[0;31mNameError\u001b[0m: name 'a' is not defined"
     ]
    }
   ],
   "source": [
    "from mypackage import a\n",
    "add(5,3)\n",
    "from mypackage import b\n",
    "sub(5,3)"
   ]
  },
  {
   "cell_type": "code",
   "execution_count": 101,
   "id": "54193a94",
   "metadata": {},
   "outputs": [
    {
     "ename": "SyntaxError",
     "evalue": "invalid syntax (4120868062.py, line 1)",
     "output_type": "error",
     "traceback": [
      "\u001b[0;36m  File \u001b[0;32m\"/var/folders/w_/765j2n31625b_2mqy83l310r0000gn/T/ipykernel_93483/4120868062.py\"\u001b[0;36m, line \u001b[0;32m1\u001b[0m\n\u001b[0;31m    How to use the built-in function dir()  to list all valid attributes and methods for that module? Module -math\u001b[0m\n\u001b[0m        ^\u001b[0m\n\u001b[0;31mSyntaxError\u001b[0m\u001b[0;31m:\u001b[0m invalid syntax\n"
     ]
    }
   ],
   "source": [
    "How to use the built-in function dir()  to list all valid attributes and methods for that module? Module -math"
   ]
  },
  {
   "cell_type": "code",
   "execution_count": 82,
   "id": "23cd06ea",
   "metadata": {},
   "outputs": [
    {
     "name": "stdout",
     "output_type": "stream",
     "text": [
      "['__doc__', '__file__', '__loader__', '__name__', '__package__', '__spec__', 'acos', 'acosh', 'asin', 'asinh', 'atan', 'atan2', 'atanh', 'ceil', 'comb', 'copysign', 'cos', 'cosh', 'degrees', 'dist', 'e', 'erf', 'erfc', 'exp', 'expm1', 'fabs', 'factorial', 'floor', 'fmod', 'frexp', 'fsum', 'gamma', 'gcd', 'hypot', 'inf', 'isclose', 'isfinite', 'isinf', 'isnan', 'isqrt', 'lcm', 'ldexp', 'lgamma', 'log', 'log10', 'log1p', 'log2', 'modf', 'nan', 'nextafter', 'perm', 'pi', 'pow', 'prod', 'radians', 'remainder', 'sin', 'sinh', 'sqrt', 'tan', 'tanh', 'tau', 'trunc', 'ulp']\n"
     ]
    }
   ],
   "source": [
    "import math\n",
    "\n",
    "print(dir(math))"
   ]
  },
  {
   "cell_type": "code",
   "execution_count": null,
   "id": "1bc39116",
   "metadata": {},
   "outputs": [],
   "source": [
    "Write a code to see builtin modules name from a module, For example, sys"
   ]
  },
  {
   "cell_type": "code",
   "execution_count": 70,
   "id": "3f99d477",
   "metadata": {},
   "outputs": [
    {
     "name": "stdout",
     "output_type": "stream",
     "text": [
      "('_abc', '_ast', '_codecs', '_collections', '_functools', '_imp', '_io', '_locale', '_operator', '_peg_parser', '_signal', '_sre', '_stat', '_string', '_symtable', '_thread', '_tracemalloc', '_warnings', '_weakref', 'atexit', 'builtins', 'errno', 'faulthandler', 'gc', 'itertools', 'marshal', 'posix', 'pwd', 'sys', 'time', 'xxsubtype')\n"
     ]
    }
   ],
   "source": [
    "import sys\n",
    "\n",
    "builtin_module_names = sys.builtin_module_names\n",
    "print(builtin_module_names)"
   ]
  },
  {
   "cell_type": "code",
   "execution_count": null,
   "id": "fd406673",
   "metadata": {},
   "outputs": [],
   "source": [
    "Write a code to turn the Fibonacci function into a module, on import Fibonacci it would return the Fibonacci of a number."
   ]
  },
  {
   "cell_type": "code",
   "execution_count": 19,
   "id": "e21d01b2",
   "metadata": {},
   "outputs": [
    {
     "ename": "NameError",
     "evalue": "name 'fibonacci' is not defined",
     "output_type": "error",
     "traceback": [
      "\u001b[0;31m---------------------------------------------------------------------------\u001b[0m",
      "\u001b[0;31mNameError\u001b[0m                                 Traceback (most recent call last)",
      "\u001b[0;32m/var/folders/w_/765j2n31625b_2mqy83l310r0000gn/T/ipykernel_34355/2103490245.py\u001b[0m in \u001b[0;36m<module>\u001b[0;34m\u001b[0m\n\u001b[1;32m      3\u001b[0m \u001b[0;32mimport\u001b[0m \u001b[0mFibo1\u001b[0m\u001b[0;34m\u001b[0m\u001b[0;34m\u001b[0m\u001b[0m\n\u001b[1;32m      4\u001b[0m \u001b[0;34m\u001b[0m\u001b[0m\n\u001b[0;32m----> 5\u001b[0;31m \u001b[0mfibonacci\u001b[0m\u001b[0;34m(\u001b[0m\u001b[0;36m1000\u001b[0m\u001b[0;34m)\u001b[0m\u001b[0;34m\u001b[0m\u001b[0;34m\u001b[0m\u001b[0m\n\u001b[0m",
      "\u001b[0;31mNameError\u001b[0m: name 'fibonacci' is not defined"
     ]
    }
   ],
   "source": [
    "# Create a Fibo function in different file and using it as Module.\n",
    "# Importing the Fibo1\n",
    "import Fibo1\n",
    "\n",
    "fibonacci(1000)"
   ]
  },
  {
   "cell_type": "code",
   "execution_count": 20,
   "id": "eedcbe7b",
   "metadata": {},
   "outputs": [],
   "source": [
    "#Write a program to make your own module and import the py file as a module"
   ]
  },
  {
   "cell_type": "code",
   "execution_count": 10,
   "id": "a5697f5d",
   "metadata": {},
   "outputs": [
    {
     "name": "stdout",
     "output_type": "stream",
     "text": [
      "5\n",
      "120\n"
     ]
    },
    {
     "ename": "NameError",
     "evalue": "name 'factorial' is not defined",
     "output_type": "error",
     "traceback": [
      "\u001b[0;31m---------------------------------------------------------------------------\u001b[0m",
      "\u001b[0;31mNameError\u001b[0m                                 Traceback (most recent call last)",
      "\u001b[0;32m/var/folders/w_/765j2n31625b_2mqy83l310r0000gn/T/ipykernel_34355/3124610496.py\u001b[0m in \u001b[0;36m<module>\u001b[0;34m\u001b[0m\n\u001b[1;32m      3\u001b[0m \u001b[0;34m\u001b[0m\u001b[0m\n\u001b[1;32m      4\u001b[0m \u001b[0;32mimport\u001b[0m \u001b[0mFactorial\u001b[0m\u001b[0;34m\u001b[0m\u001b[0;34m\u001b[0m\u001b[0m\n\u001b[0;32m----> 5\u001b[0;31m \u001b[0mfactorial\u001b[0m\u001b[0;34m(\u001b[0m\u001b[0;36m5\u001b[0m\u001b[0;34m)\u001b[0m\u001b[0;34m\u001b[0m\u001b[0;34m\u001b[0m\u001b[0m\n\u001b[0m",
      "\u001b[0;31mNameError\u001b[0m: name 'factorial' is not defined"
     ]
    }
   ],
   "source": [
    "# Created a Factorial.py file as a Module for me \n",
    "# I am going to import this as a module \n",
    "\n",
    "import Factorial\n",
    "factorial(5)\n"
   ]
  },
  {
   "cell_type": "code",
   "execution_count": null,
   "id": "e87ff56d",
   "metadata": {},
   "outputs": [],
   "source": []
  },
  {
   "cell_type": "code",
   "execution_count": null,
   "id": "8a694b5d",
   "metadata": {},
   "outputs": [],
   "source": []
  }
 ],
 "metadata": {
  "kernelspec": {
   "display_name": "Python 3 (ipykernel)",
   "language": "python",
   "name": "python3"
  },
  "language_info": {
   "codemirror_mode": {
    "name": "ipython",
    "version": 3
   },
   "file_extension": ".py",
   "mimetype": "text/x-python",
   "name": "python",
   "nbconvert_exporter": "python",
   "pygments_lexer": "ipython3",
   "version": "3.9.13"
  }
 },
 "nbformat": 4,
 "nbformat_minor": 5
}
