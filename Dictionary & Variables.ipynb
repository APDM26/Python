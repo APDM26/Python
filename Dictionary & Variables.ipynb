{
 "cells": [
  {
   "cell_type": "code",
   "execution_count": 1,
   "id": "280e4d3e",
   "metadata": {},
   "outputs": [],
   "source": [
    "# 3 Class Ekeeda Dictionary & Variables 18 Dec'22"
   ]
  },
  {
   "cell_type": "markdown",
   "id": "9a784049",
   "metadata": {},
   "source": [
    "# Dictionary & its function "
   ]
  },
  {
   "cell_type": "markdown",
   "id": "7db3e43b",
   "metadata": {},
   "source": [
    "*  Dictionaries are used to store data values in key:value pairs.\n",
    "\n",
    "*  A dictionary is a collection which is ordered*, changeable and do not allow duplicates.\n",
    "*  Dictionaries are written with curly brackets, and have keys and values.\n",
    "*  Dictionary items are ordered, changeable, and does not allow duplicates.\n",
    "\n",
    "*  Dictionary items are presented in key:value pairs, and can be referred to by using the key name.\n",
    "*  Dictionaries cannot have two items with the same key\n",
    "*  The values in dictionary items can be of any data type\n",
    "\n",
    "\n"
   ]
  },
  {
   "cell_type": "code",
   "execution_count": 2,
   "id": "ad3bb8ec",
   "metadata": {},
   "outputs": [
    {
     "name": "stdout",
     "output_type": "stream",
     "text": [
      "{0: 0, 1: 1, 2: 4, 3: 9, 4: 16, 5: 25, 6: 36, 7: 49, 8: 64, 9: 81, 10: 100}\n"
     ]
    }
   ],
   "source": [
    "square = dict()\n",
    "for i in range(11):\n",
    "    square[i]= i**2\n",
    "print(square)"
   ]
  },
  {
   "cell_type": "code",
   "execution_count": 3,
   "id": "ef0acf47",
   "metadata": {},
   "outputs": [
    {
     "data": {
      "text/plain": [
       "25"
      ]
     },
     "execution_count": 3,
     "metadata": {},
     "output_type": "execute_result"
    }
   ],
   "source": [
    "# To access the element from the dictionary \n",
    "square.get(5)"
   ]
  },
  {
   "cell_type": "code",
   "execution_count": 4,
   "id": "56ebb98e",
   "metadata": {},
   "outputs": [
    {
     "data": {
      "text/plain": [
       "dict_keys([0, 1, 2, 3, 4, 5, 6, 7, 8, 9, 10])"
      ]
     },
     "execution_count": 4,
     "metadata": {},
     "output_type": "execute_result"
    }
   ],
   "source": [
    "#To get the keys from the dictionary \n",
    "square.keys()"
   ]
  },
  {
   "cell_type": "code",
   "execution_count": 5,
   "id": "f7b049da",
   "metadata": {},
   "outputs": [
    {
     "data": {
      "text/plain": [
       "{0: 0, 1: 1, 2: 4, 3: 9, 4: 16, 5: 25, 6: 36, 7: 49, 8: 64, 9: 81, 10: 100}"
      ]
     },
     "execution_count": 5,
     "metadata": {},
     "output_type": "execute_result"
    }
   ],
   "source": [
    "#\n",
    "square1=square\n",
    "square1"
   ]
  },
  {
   "cell_type": "code",
   "execution_count": 6,
   "id": "feb18170",
   "metadata": {},
   "outputs": [
    {
     "name": "stdout",
     "output_type": "stream",
     "text": [
      "{0: 0, 1: 1, 2: 4, 3: 9, 4: 16, 5: 25, 6: 36, 7: 49, 8: 64, 9: 81, 10: 100, 11: 121} "
     ]
    }
   ],
   "source": [
    "square1[11] = 121\n",
    "print(square1,end=\" \")"
   ]
  },
  {
   "cell_type": "code",
   "execution_count": 7,
   "id": "713fb809",
   "metadata": {},
   "outputs": [
    {
     "name": "stdout",
     "output_type": "stream",
     "text": [
      "{0: 0, 1: 1, 2: 4, 3: 9, 4: 16, 5: 25, 6: 36, 7: 49, 8: 64, 9: 81, 10: 100, 11: 133} "
     ]
    }
   ],
   "source": [
    "#For updating new value\n",
    "square1.update({11:133})\n",
    "print(square1,end=\" \")"
   ]
  },
  {
   "cell_type": "code",
   "execution_count": 8,
   "id": "611392fc",
   "metadata": {},
   "outputs": [
    {
     "name": "stdout",
     "output_type": "stream",
     "text": [
      "{0: 0, 1: 1, 2: 8, 3: 27, 4: 64, 5: 125, 6: 216, 7: 343, 8: 512, 9: 729, 10: 1000, 11: 133} "
     ]
    }
   ],
   "source": [
    "# For updating the value in loop.\n",
    "for i in range(11):\n",
    "    square1.update({i:i**3})\n",
    "print(square1,end=\" \")"
   ]
  },
  {
   "cell_type": "code",
   "execution_count": 9,
   "id": "51e6f26f",
   "metadata": {},
   "outputs": [
    {
     "data": {
      "text/plain": [
       "133"
      ]
     },
     "execution_count": 9,
     "metadata": {},
     "output_type": "execute_result"
    }
   ],
   "source": [
    "# For removing the particular key from Dict\n",
    "square1.pop(11) # Atleast one argument is required."
   ]
  },
  {
   "cell_type": "code",
   "execution_count": 10,
   "id": "47e3714a",
   "metadata": {},
   "outputs": [
    {
     "name": "stdout",
     "output_type": "stream",
     "text": [
      "{0: 0, 1: 1, 2: 8, 3: 27, 4: 64, 5: 125, 6: 216, 7: 343, 8: 512, 9: 729, 10: 1000} "
     ]
    }
   ],
   "source": [
    "print(square1,end=\" \")"
   ]
  },
  {
   "cell_type": "code",
   "execution_count": 11,
   "id": "42ef5437",
   "metadata": {},
   "outputs": [
    {
     "name": "stdout",
     "output_type": "stream",
     "text": [
      "Ford\n",
      "Mustang\n",
      "1964\n"
     ]
    }
   ],
   "source": [
    "thisdict = {\n",
    "  \"brand\": \"Ford\",\n",
    "  \"model\": \"Mustang\",\n",
    "  \"year\": 1964\n",
    "}\n",
    "\n",
    "for x in thisdict:\n",
    "    print(thisdict[x])"
   ]
  },
  {
   "cell_type": "code",
   "execution_count": 12,
   "id": "4149d265",
   "metadata": {},
   "outputs": [
    {
     "name": "stdout",
     "output_type": "stream",
     "text": [
      "Ford\n",
      "Mustang\n",
      "1964\n"
     ]
    }
   ],
   "source": [
    "for x in thisdict.values():\n",
    "      print(x)"
   ]
  },
  {
   "cell_type": "code",
   "execution_count": 13,
   "id": "4e898d04",
   "metadata": {},
   "outputs": [
    {
     "data": {
      "text/plain": [
       "dict_values(['Ford', 'Mustang', 1964])"
      ]
     },
     "execution_count": 13,
     "metadata": {},
     "output_type": "execute_result"
    }
   ],
   "source": [
    "# To get all the values from the Dict\n",
    "thisdict.values()"
   ]
  },
  {
   "cell_type": "code",
   "execution_count": 14,
   "id": "fc952720",
   "metadata": {},
   "outputs": [
    {
     "name": "stdout",
     "output_type": "stream",
     "text": [
      "brand\n",
      "model\n",
      "year\n"
     ]
    }
   ],
   "source": [
    "for x in thisdict.keys():\n",
    "    print(x)"
   ]
  },
  {
   "cell_type": "code",
   "execution_count": 15,
   "id": "fb6709c3",
   "metadata": {},
   "outputs": [
    {
     "name": "stdout",
     "output_type": "stream",
     "text": [
      "brand Ford\n",
      "model Mustang\n",
      "year 1964\n"
     ]
    }
   ],
   "source": [
    "# To get both keys & values from Dict\n",
    "for x,y in thisdict.items():\n",
    "    print(x,y)"
   ]
  },
  {
   "cell_type": "code",
   "execution_count": 16,
   "id": "6bb3fd2f",
   "metadata": {},
   "outputs": [
    {
     "name": "stdout",
     "output_type": "stream",
     "text": [
      "{'brand': 'Ford', 'model': 'Mustang', 'year': 1964}\n"
     ]
    }
   ],
   "source": [
    "# To copy one dict in another dict\n",
    "thisdict = {\n",
    "  \"brand\": \"Ford\",\n",
    "  \"model\": \"Mustang\",\n",
    "  \"year\": 1964\n",
    "}\n",
    "mydict = thisdict.copy()\n",
    "print(mydict)"
   ]
  },
  {
   "cell_type": "code",
   "execution_count": 17,
   "id": "399d55ad",
   "metadata": {},
   "outputs": [
    {
     "name": "stdout",
     "output_type": "stream",
     "text": [
      "{'brand': 'Ford', 'model': 'Mustang', 'year': 1964}\n"
     ]
    }
   ],
   "source": [
    "thisdict = {\n",
    "  \"brand\": \"Ford\",\n",
    "  \"model\": \"Mustang\",\n",
    "  \"year\": 1964\n",
    "}\n",
    "mydict = dict(thisdict)\n",
    "print(mydict)"
   ]
  },
  {
   "cell_type": "code",
   "execution_count": 22,
   "id": "92544818",
   "metadata": {},
   "outputs": [
    {
     "name": "stdout",
     "output_type": "stream",
     "text": [
      "{0: 0, 1: 1, 2: 4, 3: 9, 4: 16, 5: 25, 6: 36, 7: 49, 8: 64, 9: 81, 10: 100}\n",
      "{0: 0, 1: 1, 2: 8, 3: 27, 4: 64, 5: 125, 6: 216, 7: 343, 8: 512, 9: 729, 10: 1000}\n",
      "\n",
      "{'square': {0: 0, 1: 1, 2: 4, 3: 9, 4: 16, 5: 25, 6: 36, 7: 49, 8: 64, 9: 81, 10: 100}, 'cube': {0: 0, 1: 1, 2: 8, 3: 27, 4: 64, 5: 125, 6: 216, 7: 343, 8: 512, 9: 729, 10: 1000}} "
     ]
    }
   ],
   "source": [
    "# Nested Dictionary (How to create nested dictionary by using loop?)\n",
    "square= dict()\n",
    "cube =dict()\n",
    "for i in range(11):\n",
    "    square[i]=i**2\n",
    "    cube[i]=i**3\n",
    "print(square)\n",
    "print(cube)\n",
    "print()\n",
    "Maths ={\"square\":square,\n",
    "       \"cube\":cube}\n",
    "print(Maths,end=\" \")"
   ]
  },
  {
   "cell_type": "code",
   "execution_count": 23,
   "id": "2701c2d3",
   "metadata": {},
   "outputs": [
    {
     "name": "stdout",
     "output_type": "stream",
     "text": [
      "{'square': {0: 0, 1: 1, 2: 4, 3: 9, 4: 16, 5: 25, 6: 36, 7: 49, 8: 64, 9: 81, 10: 100}}"
     ]
    }
   ],
   "source": [
    "Maths.popitem()\n",
    "print(Maths,end=\"\")"
   ]
  },
  {
   "cell_type": "code",
   "execution_count": 28,
   "id": "fe074e6d",
   "metadata": {},
   "outputs": [
    {
     "name": "stdout",
     "output_type": "stream",
     "text": [
      "None\n"
     ]
    }
   ],
   "source": [
    "x=Maths.setdefault(10) # How to use this function ?\n",
    "print(x)"
   ]
  },
  {
   "cell_type": "markdown",
   "id": "93e34cb6",
   "metadata": {},
   "source": [
    "# Variable- Local & Global"
   ]
  },
  {
   "cell_type": "code",
   "execution_count": 30,
   "id": "e97d7b5c",
   "metadata": {},
   "outputs": [
    {
     "name": "stdout",
     "output_type": "stream",
     "text": [
      "Dumb\n",
      "Jupyter\n"
     ]
    }
   ],
   "source": [
    "x = \"Jupyter\"\n",
    "def prglang():\n",
    "    x = \"Dumb\"\n",
    "    print(x)\n",
    "prglang()\n",
    "print(x)"
   ]
  },
  {
   "cell_type": "code",
   "execution_count": 33,
   "id": "9f6d0b60",
   "metadata": {},
   "outputs": [
    {
     "name": "stdout",
     "output_type": "stream",
     "text": [
      "WFH\n",
      "office\n",
      "office\n"
     ]
    }
   ],
   "source": [
    "y = \"WFH\"\n",
    "print(y)\n",
    "def wrkptn():\n",
    "    global y   #Mention global variable without = sign\n",
    "    y = \"office\"\n",
    "    print(y)\n",
    "def wrk():\n",
    "    print(y)\n",
    "wrkptn()\n",
    "wrk()"
   ]
  },
  {
   "cell_type": "code",
   "execution_count": null,
   "id": "2a37e077",
   "metadata": {},
   "outputs": [],
   "source": []
  }
 ],
 "metadata": {
  "kernelspec": {
   "display_name": "Python 3 (ipykernel)",
   "language": "python",
   "name": "python3"
  },
  "language_info": {
   "codemirror_mode": {
    "name": "ipython",
    "version": 3
   },
   "file_extension": ".py",
   "mimetype": "text/x-python",
   "name": "python",
   "nbconvert_exporter": "python",
   "pygments_lexer": "ipython3",
   "version": "3.9.13"
  }
 },
 "nbformat": 4,
 "nbformat_minor": 5
}
