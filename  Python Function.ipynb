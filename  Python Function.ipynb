{
 "cells": [
  {
   "cell_type": "code",
   "execution_count": 4,
   "id": "468535ef",
   "metadata": {},
   "outputs": [
    {
     "data": {
      "text/plain": [
       "['Mumbaiis a city',\n",
       " 'Chennaiis a city',\n",
       " 'Kolkattais a city',\n",
       " 'Hyderabadis a city',\n",
       " 'Bangaloreis a city']"
      ]
     },
     "execution_count": 4,
     "metadata": {},
     "output_type": "execute_result"
    }
   ],
   "source": [
    "''''\n",
    "List Comprehension:\n",
    "| is used for or and & is used for and\n",
    "\\ use back slash to make your programming more beautiful\n",
    "'''''"
   ]
  },
  {
   "cell_type": "code",
   "execution_count": 21,
   "id": "f0a3a955",
   "metadata": {},
   "outputs": [
    {
     "data": {
      "text/plain": [
       "['Mumbaiis a city',\n",
       " 'Chennaiis a city',\n",
       " 'Kolkattais a city',\n",
       " 'Hyderabadis a city',\n",
       " 'Bangaloreis a city']"
      ]
     },
     "execution_count": 21,
     "metadata": {},
     "output_type": "execute_result"
    }
   ],
   "source": [
    "Cities = ['Mumbai','Chennai','Kolkatta','Hyderabad','Bangalore']\n",
    "# Example output input > Mumbai , output > Mumbai is a city\n",
    "# Genrate this output and store it in a variable called NewCities using list comprehension\n",
    "NewCities = [i+\"is a city\" for i in Cities]\n",
    "NewCities"
   ]
  },
  {
   "cell_type": "code",
   "execution_count": 6,
   "id": "b706f36e",
   "metadata": {},
   "outputs": [
    {
     "data": {
      "text/plain": [
       "[['Mumbai', 'Air'],\n",
       " ['Mumbai', 'Road'],\n",
       " ['Mumbai', 'Rail'],\n",
       " ['Mumbai', 'Water'],\n",
       " ['Chennai', 'Air'],\n",
       " ['Chennai', 'Road'],\n",
       " ['Chennai', 'Rail'],\n",
       " ['Chennai', 'Water'],\n",
       " ['Kolkatta', 'Air'],\n",
       " ['Kolkatta', 'Road'],\n",
       " ['Kolkatta', 'Rail'],\n",
       " ['Kolkatta', 'Water'],\n",
       " ['Hyderabad', 'Air'],\n",
       " ['Hyderabad', 'Road'],\n",
       " ['Hyderabad', 'Rail'],\n",
       " ['Hyderabad', 'Water'],\n",
       " ['Bangalore', 'Air'],\n",
       " ['Bangalore', 'Road'],\n",
       " ['Bangalore', 'Rail'],\n",
       " ['Bangalore', 'Water']]"
      ]
     },
     "execution_count": 6,
     "metadata": {},
     "output_type": "execute_result"
    }
   ],
   "source": [
    "# Another example of list comprehension\n",
    "#Without List comprehension\n",
    "Cities = ['Mumbai','Chennai','Kolkatta','Hyderabad','Bangalore']\n",
    "Transport = [\"Air\",\"Road\",\"Rail\",\"Water\"]\n",
    "Combination_List=[]\n",
    "for city in Cities:\n",
    "    for trans in Transport:\n",
    "        Combination_List.append([city,trans])\n",
    "Combination_List\n",
    "        \n",
    "#List Comprehension\n",
    "Combination_List=[ [city,trans] for city in Cities for trans in Transport ]\n",
    "Combination_List\n",
    "        "
   ]
  },
  {
   "cell_type": "code",
   "execution_count": 8,
   "id": "4de7d2f8",
   "metadata": {},
   "outputs": [],
   "source": [
    "movie_list=['Kantara', 'Avtar', 'Spiderman', 'Topgun', 'LastMovie']\n",
    "movie_screens=['screen 1','screen 2']\n",
    "\n",
    "combine_list=[[i,j] for i in movie_list for j in movie_screens]\n",
    "combine_list\n",
    "\n",
    "screen_timings =['10:00 am','12:00 am','1:00 pm','9:00 pm','11:00pm']"
   ]
  },
  {
   "cell_type": "code",
   "execution_count": 17,
   "id": "cf45611f",
   "metadata": {},
   "outputs": [
    {
     "data": {
      "text/plain": [
       "{'Kantara_screen 1_10:00 am': '10:00 am',\n",
       " 'Kantara_screen 1_12:00 am': '12:00 am',\n",
       " 'Kantara_screen 1_1:00 pm': '1:00 pm',\n",
       " 'Kantara_screen 1_9:00 pm': '9:00 pm',\n",
       " 'Kantara_screen 1_11:00pm': '11:00pm',\n",
       " 'Kantara_screen 2_10:00 am': '10:00 am',\n",
       " 'Kantara_screen 2_12:00 am': '12:00 am',\n",
       " 'Kantara_screen 2_1:00 pm': '1:00 pm',\n",
       " 'Kantara_screen 2_9:00 pm': '9:00 pm',\n",
       " 'Kantara_screen 2_11:00pm': '11:00pm',\n",
       " 'Avtar_screen 1_10:00 am': '10:00 am',\n",
       " 'Avtar_screen 1_12:00 am': '12:00 am',\n",
       " 'Avtar_screen 1_1:00 pm': '1:00 pm',\n",
       " 'Avtar_screen 1_9:00 pm': '9:00 pm',\n",
       " 'Avtar_screen 1_11:00pm': '11:00pm',\n",
       " 'Avtar_screen 2_10:00 am': '10:00 am',\n",
       " 'Avtar_screen 2_12:00 am': '12:00 am',\n",
       " 'Avtar_screen 2_1:00 pm': '1:00 pm',\n",
       " 'Avtar_screen 2_9:00 pm': '9:00 pm',\n",
       " 'Avtar_screen 2_11:00pm': '11:00pm',\n",
       " 'Spiderman_screen 1_10:00 am': '10:00 am',\n",
       " 'Spiderman_screen 1_12:00 am': '12:00 am',\n",
       " 'Spiderman_screen 1_1:00 pm': '1:00 pm',\n",
       " 'Spiderman_screen 1_9:00 pm': '9:00 pm',\n",
       " 'Spiderman_screen 1_11:00pm': '11:00pm',\n",
       " 'Spiderman_screen 2_10:00 am': '10:00 am',\n",
       " 'Spiderman_screen 2_12:00 am': '12:00 am',\n",
       " 'Spiderman_screen 2_1:00 pm': '1:00 pm',\n",
       " 'Spiderman_screen 2_9:00 pm': '9:00 pm',\n",
       " 'Spiderman_screen 2_11:00pm': '11:00pm',\n",
       " 'Topgun_screen 1_10:00 am': '10:00 am',\n",
       " 'Topgun_screen 1_12:00 am': '12:00 am',\n",
       " 'Topgun_screen 1_1:00 pm': '1:00 pm',\n",
       " 'Topgun_screen 1_9:00 pm': '9:00 pm',\n",
       " 'Topgun_screen 1_11:00pm': '11:00pm',\n",
       " 'Topgun_screen 2_10:00 am': '10:00 am',\n",
       " 'Topgun_screen 2_12:00 am': '12:00 am',\n",
       " 'Topgun_screen 2_1:00 pm': '1:00 pm',\n",
       " 'Topgun_screen 2_9:00 pm': '9:00 pm',\n",
       " 'Topgun_screen 2_11:00pm': '11:00pm',\n",
       " 'LastMovie_screen 1_10:00 am': '10:00 am',\n",
       " 'LastMovie_screen 1_12:00 am': '12:00 am',\n",
       " 'LastMovie_screen 1_1:00 pm': '1:00 pm',\n",
       " 'LastMovie_screen 1_9:00 pm': '9:00 pm',\n",
       " 'LastMovie_screen 1_11:00pm': '11:00pm',\n",
       " 'LastMovie_screen 2_10:00 am': '10:00 am',\n",
       " 'LastMovie_screen 2_12:00 am': '12:00 am',\n",
       " 'LastMovie_screen 2_1:00 pm': '1:00 pm',\n",
       " 'LastMovie_screen 2_9:00 pm': '9:00 pm',\n",
       " 'LastMovie_screen 2_11:00pm': '11:00pm'}"
      ]
     },
     "execution_count": 17,
     "metadata": {},
     "output_type": "execute_result"
    }
   ],
   "source": [
    "# Create a dictionary {movie_name +_+ screen : movie_time}\n",
    "#Eg Kantara_Screen1 :10:00 am\n",
    "\n",
    "combin_dic={i+\"_\"+j+\"_\"+k:k \\\n",
    "            for i in movie_list \\\n",
    "            for j in movie_screens \\\n",
    "            for k in screen_timings}\n",
    "combin_dic"
   ]
  },
  {
   "cell_type": "code",
   "execution_count": 14,
   "id": "eb873a0e",
   "metadata": {},
   "outputs": [
    {
     "data": {
      "text/plain": [
       "{'Kantara': '11:00pm',\n",
       " 'Avtar': '11:00pm',\n",
       " 'Spiderman': '11:00pm',\n",
       " 'Topgun': '11:00pm',\n",
       " 'LastMovie': '11:00pm'}"
      ]
     },
     "execution_count": 14,
     "metadata": {},
     "output_type": "execute_result"
    }
   ],
   "source": [
    "#Dictionary using List Comprehension\n",
    "# Use backward / to solve the code \n",
    "combin_dic={i:k \\\n",
    "            for i in movie_list \\\n",
    "            for k in screen_timings}\n",
    "combin_dic"
   ]
  },
  {
   "cell_type": "code",
   "execution_count": 19,
   "id": "e09325eb",
   "metadata": {},
   "outputs": [
    {
     "data": {
      "text/plain": [
       "{'Kantara_screen 1_10:00 am': '10:00 am',\n",
       " 'Kantara_screen 1_12:00 am': '12:00 am',\n",
       " 'Kantara_screen 1_1:00 pm': '1:00 pm',\n",
       " 'Kantara_screen 1_9:00 pm': '9:00 pm',\n",
       " 'Kantara_screen 1_11:00pm': '11:00pm',\n",
       " 'Kantara_screen 2_10:00 am': '10:00 am',\n",
       " 'Kantara_screen 2_12:00 am': '12:00 am',\n",
       " 'Kantara_screen 2_1:00 pm': '1:00 pm',\n",
       " 'Kantara_screen 2_9:00 pm': '9:00 pm',\n",
       " 'Kantara_screen 2_11:00pm': '11:00pm',\n",
       " 'Avtar_screen 1_10:00 am': '10:00 am',\n",
       " 'Avtar_screen 1_12:00 am': '12:00 am',\n",
       " 'Avtar_screen 1_1:00 pm': '1:00 pm',\n",
       " 'Avtar_screen 1_9:00 pm': '9:00 pm',\n",
       " 'Avtar_screen 1_11:00pm': '11:00pm',\n",
       " 'Avtar_screen 2_10:00 am': '10:00 am',\n",
       " 'Avtar_screen 2_12:00 am': '12:00 am',\n",
       " 'Avtar_screen 2_1:00 pm': '1:00 pm',\n",
       " 'Avtar_screen 2_9:00 pm': '9:00 pm',\n",
       " 'Avtar_screen 2_11:00pm': '11:00pm',\n",
       " 'Spiderman_screen 1_10:00 am': '10:00 am',\n",
       " 'Spiderman_screen 1_12:00 am': '12:00 am',\n",
       " 'Spiderman_screen 1_1:00 pm': '1:00 pm',\n",
       " 'Spiderman_screen 1_9:00 pm': '9:00 pm',\n",
       " 'Spiderman_screen 1_11:00pm': '11:00pm',\n",
       " 'Spiderman_screen 2_10:00 am': '10:00 am',\n",
       " 'Spiderman_screen 2_12:00 am': '12:00 am',\n",
       " 'Spiderman_screen 2_1:00 pm': '1:00 pm',\n",
       " 'Spiderman_screen 2_9:00 pm': '9:00 pm',\n",
       " 'Spiderman_screen 2_11:00pm': '11:00pm',\n",
       " 'Topgun_screen 1_10:00 am': '10:00 am',\n",
       " 'Topgun_screen 1_12:00 am': '12:00 am',\n",
       " 'Topgun_screen 1_1:00 pm': '1:00 pm',\n",
       " 'Topgun_screen 1_9:00 pm': '9:00 pm',\n",
       " 'Topgun_screen 1_11:00pm': '11:00pm',\n",
       " 'Topgun_screen 2_10:00 am': '10:00 am',\n",
       " 'Topgun_screen 2_12:00 am': '12:00 am',\n",
       " 'Topgun_screen 2_1:00 pm': '1:00 pm',\n",
       " 'Topgun_screen 2_9:00 pm': '9:00 pm',\n",
       " 'Topgun_screen 2_11:00pm': '11:00pm',\n",
       " 'LastMovie_screen 1_10:00 am': '10:00 am',\n",
       " 'LastMovie_screen 1_12:00 am': '12:00 am',\n",
       " 'LastMovie_screen 1_1:00 pm': '1:00 pm',\n",
       " 'LastMovie_screen 1_9:00 pm': '9:00 pm',\n",
       " 'LastMovie_screen 1_11:00pm': '11:00pm',\n",
       " 'LastMovie_screen 2_10:00 am': '10:00 am',\n",
       " 'LastMovie_screen 2_12:00 am': '12:00 am',\n",
       " 'LastMovie_screen 2_1:00 pm': '1:00 pm',\n",
       " 'LastMovie_screen 2_9:00 pm': '9:00 pm',\n",
       " 'LastMovie_screen 2_11:00pm': '11:00pm'}"
      ]
     },
     "execution_count": 19,
     "metadata": {},
     "output_type": "execute_result"
    }
   ],
   "source": [
    "#Another example ,try the same example without Kantara or time 10:00 am\n",
    "\n",
    "combin_dic={i+\"_\"+j+\"_\"+k:k \\\n",
    "            for i in movie_list \\\n",
    "            for j in movie_screens \\\n",
    "            for k in screen_timings\n",
    "            if (i!=\"Kantara\")|(k!=\"10:00 am\")| (k!=\"screen_2\")}\n",
    "combin_dic"
   ]
  },
  {
   "cell_type": "code",
   "execution_count": 20,
   "id": "76d7b74d",
   "metadata": {},
   "outputs": [
    {
     "data": {
      "text/plain": [
       "{'Avtar_screen 1_12:00 am': '12:00 am',\n",
       " 'Avtar_screen 1_1:00 pm': '1:00 pm',\n",
       " 'Avtar_screen 1_9:00 pm': '9:00 pm',\n",
       " 'Avtar_screen 1_11:00pm': '11:00pm',\n",
       " 'Avtar_screen 2_12:00 am': '12:00 am',\n",
       " 'Avtar_screen 2_1:00 pm': '1:00 pm',\n",
       " 'Avtar_screen 2_9:00 pm': '9:00 pm',\n",
       " 'Avtar_screen 2_11:00pm': '11:00pm',\n",
       " 'Spiderman_screen 1_12:00 am': '12:00 am',\n",
       " 'Spiderman_screen 1_1:00 pm': '1:00 pm',\n",
       " 'Spiderman_screen 1_9:00 pm': '9:00 pm',\n",
       " 'Spiderman_screen 1_11:00pm': '11:00pm',\n",
       " 'Spiderman_screen 2_12:00 am': '12:00 am',\n",
       " 'Spiderman_screen 2_1:00 pm': '1:00 pm',\n",
       " 'Spiderman_screen 2_9:00 pm': '9:00 pm',\n",
       " 'Spiderman_screen 2_11:00pm': '11:00pm',\n",
       " 'Topgun_screen 1_12:00 am': '12:00 am',\n",
       " 'Topgun_screen 1_1:00 pm': '1:00 pm',\n",
       " 'Topgun_screen 1_9:00 pm': '9:00 pm',\n",
       " 'Topgun_screen 1_11:00pm': '11:00pm',\n",
       " 'Topgun_screen 2_12:00 am': '12:00 am',\n",
       " 'Topgun_screen 2_1:00 pm': '1:00 pm',\n",
       " 'Topgun_screen 2_9:00 pm': '9:00 pm',\n",
       " 'Topgun_screen 2_11:00pm': '11:00pm',\n",
       " 'LastMovie_screen 1_12:00 am': '12:00 am',\n",
       " 'LastMovie_screen 1_1:00 pm': '1:00 pm',\n",
       " 'LastMovie_screen 1_9:00 pm': '9:00 pm',\n",
       " 'LastMovie_screen 1_11:00pm': '11:00pm',\n",
       " 'LastMovie_screen 2_12:00 am': '12:00 am',\n",
       " 'LastMovie_screen 2_1:00 pm': '1:00 pm',\n",
       " 'LastMovie_screen 2_9:00 pm': '9:00 pm',\n",
       " 'LastMovie_screen 2_11:00pm': '11:00pm'}"
      ]
     },
     "execution_count": 20,
     "metadata": {},
     "output_type": "execute_result"
    }
   ],
   "source": [
    "combin_dic={i+\"_\"+j+\"_\"+k:k \\\n",
    "            for i in movie_list \\\n",
    "            for j in movie_screens \\\n",
    "            for k in screen_timings\n",
    "            if (i!=\"Kantara\")&(k!=\"10:00 am\")&(k!=\"screen_2\")}\n",
    "combin_dic"
   ]
  },
  {
   "cell_type": "code",
   "execution_count": null,
   "id": "ff7edd05",
   "metadata": {},
   "outputs": [],
   "source": [
    "# Quick Homework \n",
    "# Lst of first odd numbers \n",
    "#lst of even number\n",
    "#if list 1 and 2 contains multiple of 5 than multiply list 1 with list 2? list "
   ]
  },
  {
   "cell_type": "code",
   "execution_count": 44,
   "id": "a45cdb9a",
   "metadata": {},
   "outputs": [
    {
     "name": "stdout",
     "output_type": "stream",
     "text": [
      "[2, 4, 6, 8, 10, 12, 14, 16, 18, 20, 22, 24, 26, 28, 30, 32, 34, 36, 38, 40, 42, 44, 46, 48, 50, 52, 54, 56, 58, 60, 62, 64, 66, 68, 70, 72, 74, 76, 78, 80, 82, 84, 86, 88, 90, 92, 94, 96, 98, 100, 102, 104, 106, 108, 110, 112, 114, 116, 118, 120, 122, 124, 126, 128, 130, 132, 134, 136, 138, 140, 142, 144, 146, 148, 150, 152, 154, 156, 158, 160, 162, 164, 166, 168, 170, 172, 174, 176, 178, 180, 182, 184, 186, 188, 190, 192, 194, 196, 198][3, 5, 7, 9, 11, 13, 15, 17, 19, 21, 23, 25, 27, 29, 31, 33, 35, 37, 39, 41, 43, 45, 47, 49, 51, 53, 55, 57, 59, 61, 63, 65, 67, 69, 71, 73, 75, 77, 79, 81, 83, 85, 87, 89, 91, 93, 95, 97, 99, 101, 103, 105, 107, 109, 111, 113, 115, 117, 119, 121, 123, 125, 127, 129, 131, 133, 135, 137, 139, 141, 143, 145, 147, 149, 151, 153, 155, 157, 159, 161, 163, 165, 167, 169, 171, 173, 175, 177, 179, 181, 183, 185, 187, 189, 191, 193, 195, 197, 199]"
     ]
    }
   ],
   "source": [
    "list1 =list(range(2,200,2))\n",
    "list2=list(range(3,200,2))\n",
    "print(list1,end=\"\")\n",
    "print(list2,end=\"\")"
   ]
  },
  {
   "cell_type": "code",
   "execution_count": 43,
   "id": "8c05b892",
   "metadata": {},
   "outputs": [
    {
     "name": "stdout",
     "output_type": "stream",
     "text": [
      "[50, 150, 250, 350, 450, 550, 650, 750, 850, 950, 1050, 1150, 1250, 1350, 1450, 1550, 1650, 1750, 1850, 1950, 100, 300, 500, 700, 900, 1100, 1300, 1500, 1700, 1900, 2100, 2300, 2500, 2700, 2900, 3100, 3300, 3500, 3700, 3900, 150, 450, 750, 1050, 1350, 1650, 1950, 2250, 2550, 2850, 3150, 3450, 3750, 4050, 4350, 4650, 4950, 5250, 5550, 5850, 200, 600, 1000, 1400, 1800, 2200, 2600, 3000, 3400, 3800, 4200, 4600, 5000, 5400, 5800, 6200, 6600, 7000, 7400, 7800, 250, 750, 1250, 1750, 2250, 2750, 3250, 3750, 4250, 4750, 5250, 5750, 6250, 6750, 7250, 7750, 8250, 8750, 9250, 9750, 300, 900, 1500, 2100, 2700, 3300, 3900, 4500, 5100, 5700, 6300, 6900, 7500, 8100, 8700, 9300, 9900, 10500, 11100, 11700, 350, 1050, 1750, 2450, 3150, 3850, 4550, 5250, 5950, 6650, 7350, 8050, 8750, 9450, 10150, 10850, 11550, 12250, 12950, 13650, 400, 1200, 2000, 2800, 3600, 4400, 5200, 6000, 6800, 7600, 8400, 9200, 10000, 10800, 11600, 12400, 13200, 14000, 14800, 15600, 450, 1350, 2250, 3150, 4050, 4950, 5850, 6750, 7650, 8550, 9450, 10350, 11250, 12150, 13050, 13950, 14850, 15750, 16650, 17550, 500, 1500, 2500, 3500, 4500, 5500, 6500, 7500, 8500, 9500, 10500, 11500, 12500, 13500, 14500, 15500, 16500, 17500, 18500, 19500, 550, 1650, 2750, 3850, 4950, 6050, 7150, 8250, 9350, 10450, 11550, 12650, 13750, 14850, 15950, 17050, 18150, 19250, 20350, 21450, 600, 1800, 3000, 4200, 5400, 6600, 7800, 9000, 10200, 11400, 12600, 13800, 15000, 16200, 17400, 18600, 19800, 21000, 22200, 23400, 650, 1950, 3250, 4550, 5850, 7150, 8450, 9750, 11050, 12350, 13650, 14950, 16250, 17550, 18850, 20150, 21450, 22750, 24050, 25350, 700, 2100, 3500, 4900, 6300, 7700, 9100, 10500, 11900, 13300, 14700, 16100, 17500, 18900, 20300, 21700, 23100, 24500, 25900, 27300, 750, 2250, 3750, 5250, 6750, 8250, 9750, 11250, 12750, 14250, 15750, 17250, 18750, 20250, 21750, 23250, 24750, 26250, 27750, 29250, 800, 2400, 4000, 5600, 7200, 8800, 10400, 12000, 13600, 15200, 16800, 18400, 20000, 21600, 23200, 24800, 26400, 28000, 29600, 31200, 850, 2550, 4250, 5950, 7650, 9350, 11050, 12750, 14450, 16150, 17850, 19550, 21250, 22950, 24650, 26350, 28050, 29750, 31450, 33150, 900, 2700, 4500, 6300, 8100, 9900, 11700, 13500, 15300, 17100, 18900, 20700, 22500, 24300, 26100, 27900, 29700, 31500, 33300, 35100, 950, 2850, 4750, 6650, 8550, 10450, 12350, 14250, 16150, 18050, 19950, 21850, 23750, 25650, 27550, 29450, 31350, 33250, 35150, 37050] "
     ]
    }
   ],
   "source": [
    "list3 = [i*j for i in list1\\ #Output & taking input from list1\n",
    "         for j in list2 \\ #Taking input from list 2\n",
    "         if (i%5==0) & (j%5==0)]# Using conditional statement \n",
    "print(list3,end=\" \") # printing the result as output"
   ]
  },
  {
   "cell_type": "code",
   "execution_count": 45,
   "id": "ea3abed7",
   "metadata": {},
   "outputs": [
    {
     "name": "stdout",
     "output_type": "stream",
     "text": [
      "[2, 4, 6, 8, 10, 12, 14, 16, 18]\n"
     ]
    }
   ],
   "source": [
    "# Creating even number list using list comprehension\n",
    "\n",
    "even = [x for x in range(1,20) if x % 2 == 0]\n",
    "print(even)"
   ]
  },
  {
   "cell_type": "code",
   "execution_count": null,
   "id": "e1e3415a",
   "metadata": {},
   "outputs": [],
   "source": [
    "# Functions in Python\n",
    "# A Function is a piece of code that can be repeatively used \n",
    "#IRCTC >Ticket Booking >\n",
    "#and resue that function any number of times \n",
    "# this is very useful when your task are repitive in code "
   ]
  },
  {
   "cell_type": "code",
   "execution_count": 49,
   "id": "5f856154",
   "metadata": {},
   "outputs": [],
   "source": [
    "def cal(x,y):\n",
    "    print(\"add\",x+y)\n",
    "    print(\"Sub\",x-y)\n",
    "    print(\"multi\",x*y)\n",
    "    \n",
    "    try:\n",
    "        print(\"div\",x/y)\n",
    "    except:\n",
    "        print(\"exception\")\n"
   ]
  },
  {
   "cell_type": "code",
   "execution_count": 48,
   "id": "6b9d0fe8",
   "metadata": {},
   "outputs": [
    {
     "name": "stdout",
     "output_type": "stream",
     "text": [
      "add 0\n",
      "Sub 0\n",
      "multi 0\n"
     ]
    },
    {
     "ename": "ZeroDivisionError",
     "evalue": "division by zero",
     "output_type": "error",
     "traceback": [
      "\u001b[0;31m---------------------------------------------------------------------------\u001b[0m",
      "\u001b[0;31mZeroDivisionError\u001b[0m                         Traceback (most recent call last)",
      "\u001b[0;32m/var/folders/w_/765j2n31625b_2mqy83l310r0000gn/T/ipykernel_32251/4220689839.py\u001b[0m in \u001b[0;36m<module>\u001b[0;34m\u001b[0m\n\u001b[1;32m      1\u001b[0m \u001b[0;32mfor\u001b[0m \u001b[0mi\u001b[0m \u001b[0;32min\u001b[0m \u001b[0mrange\u001b[0m\u001b[0;34m(\u001b[0m\u001b[0;36m100\u001b[0m\u001b[0;34m)\u001b[0m\u001b[0;34m:\u001b[0m\u001b[0;34m\u001b[0m\u001b[0;34m\u001b[0m\u001b[0m\n\u001b[0;32m----> 2\u001b[0;31m     \u001b[0mcal\u001b[0m\u001b[0;34m(\u001b[0m\u001b[0mi\u001b[0m\u001b[0;34m*\u001b[0m\u001b[0;36m10\u001b[0m\u001b[0;34m,\u001b[0m\u001b[0mi\u001b[0m\u001b[0;34m)\u001b[0m\u001b[0;34m\u001b[0m\u001b[0;34m\u001b[0m\u001b[0m\n\u001b[0m",
      "\u001b[0;32m/var/folders/w_/765j2n31625b_2mqy83l310r0000gn/T/ipykernel_32251/470673536.py\u001b[0m in \u001b[0;36mcal\u001b[0;34m(x, y)\u001b[0m\n\u001b[1;32m      3\u001b[0m     \u001b[0mprint\u001b[0m\u001b[0;34m(\u001b[0m\u001b[0;34m\"Sub\"\u001b[0m\u001b[0;34m,\u001b[0m\u001b[0mx\u001b[0m\u001b[0;34m-\u001b[0m\u001b[0my\u001b[0m\u001b[0;34m)\u001b[0m\u001b[0;34m\u001b[0m\u001b[0;34m\u001b[0m\u001b[0m\n\u001b[1;32m      4\u001b[0m     \u001b[0mprint\u001b[0m\u001b[0;34m(\u001b[0m\u001b[0;34m\"multi\"\u001b[0m\u001b[0;34m,\u001b[0m\u001b[0mx\u001b[0m\u001b[0;34m*\u001b[0m\u001b[0my\u001b[0m\u001b[0;34m)\u001b[0m\u001b[0;34m\u001b[0m\u001b[0;34m\u001b[0m\u001b[0m\n\u001b[0;32m----> 5\u001b[0;31m     \u001b[0mprint\u001b[0m\u001b[0;34m(\u001b[0m\u001b[0;34m\"div\"\u001b[0m\u001b[0;34m,\u001b[0m\u001b[0mx\u001b[0m\u001b[0;34m/\u001b[0m\u001b[0my\u001b[0m\u001b[0;34m)\u001b[0m\u001b[0;34m\u001b[0m\u001b[0;34m\u001b[0m\u001b[0m\n\u001b[0m\u001b[1;32m      6\u001b[0m \u001b[0mcal\u001b[0m\u001b[0;34m(\u001b[0m\u001b[0;36m67\u001b[0m\u001b[0;34m,\u001b[0m\u001b[0;36m56\u001b[0m\u001b[0;34m)\u001b[0m\u001b[0;34m\u001b[0m\u001b[0;34m\u001b[0m\u001b[0m\n",
      "\u001b[0;31mZeroDivisionError\u001b[0m: division by zero"
     ]
    }
   ],
   "source": [
    "for i in range(100):\n",
    "    cal(i*10,i)"
   ]
  },
  {
   "cell_type": "code",
   "execution_count": null,
   "id": "b2d135a1",
   "metadata": {},
   "outputs": [],
   "source": [
    "# Syntax of a Function \n",
    "#Function>some code \n",
    "#input >optional\n",
    "#output >optional\n",
    "#Unique Name[you cannot have two functions with same name]\n",
    "\"\"\"\n",
    "def<Function_name>(Argumnets):\n",
    "    write code\n",
    "    write code \n",
    "    return output\n",
    "\"\"\""
   ]
  },
  {
   "cell_type": "code",
   "execution_count": 50,
   "id": "f212ef7a",
   "metadata": {},
   "outputs": [
    {
     "name": "stdout",
     "output_type": "stream",
     "text": [
      "Hello World\n"
     ]
    }
   ],
   "source": [
    "def Hello_World():\n",
    "    print(\"Hello World\")\n",
    "Hello_World()"
   ]
  },
  {
   "cell_type": "code",
   "execution_count": 51,
   "id": "9382cfaa",
   "metadata": {},
   "outputs": [
    {
     "name": "stdout",
     "output_type": "stream",
     "text": [
      "Wanna be a DataScintist\n"
     ]
    }
   ],
   "source": [
    "# Quick point\n",
    "#Create a function called datasciencegaol and print  yor goal in that \n",
    "def datasciencegaol():\n",
    "    print(\"Wanna be a DataScintist\")\n",
    "datasciencegaol()"
   ]
  },
  {
   "cell_type": "code",
   "execution_count": 52,
   "id": "746aba43",
   "metadata": {},
   "outputs": [
    {
     "data": {
      "text/plain": [
       "30"
      ]
     },
     "execution_count": 52,
     "metadata": {},
     "output_type": "execute_result"
    }
   ],
   "source": [
    "# Another Example with arguments\n",
    "def Square_Input(x:int,y:int):\n",
    "    return x*y\n",
    "Square_Input(5,6)"
   ]
  },
  {
   "cell_type": "code",
   "execution_count": 54,
   "id": "2b9dad76",
   "metadata": {},
   "outputs": [
    {
     "data": {
      "text/plain": [
       "50"
      ]
     },
     "execution_count": 54,
     "metadata": {},
     "output_type": "execute_result"
    }
   ],
   "source": [
    "#Another example with fixed argument \n",
    "def Square_Input(x:int,y=10):\n",
    "    return x*y\n",
    "Square_Input(5)"
   ]
  },
  {
   "cell_type": "code",
   "execution_count": null,
   "id": "79d3be7f",
   "metadata": {},
   "outputs": [],
   "source": [
    "# Define a function that takes input as a \n",
    "#list and prints all the elements in that list\n",
    "# If you dont given any input argument it should print a default list\n",
    "default_list=['No Values Given']"
   ]
  },
  {
   "cell_type": "code",
   "execution_count": 58,
   "id": "7bf3b5e7",
   "metadata": {},
   "outputs": [
    {
     "data": {
      "text/plain": [
       "0"
      ]
     },
     "execution_count": 58,
     "metadata": {},
     "output_type": "execute_result"
    }
   ],
   "source": [
    "def Input(x):\n",
    "    for i in range(100):\n",
    "        return i\n",
    "Input(i)"
   ]
  },
  {
   "cell_type": "code",
   "execution_count": null,
   "id": "9abecbcb",
   "metadata": {},
   "outputs": [],
   "source": [
    "# Try to use functions and list comprehension inthe movie ticketing exam \n",
    "#Eg:Create functio  find mon=vie_name , find_ticket_"
   ]
  }
 ],
 "metadata": {
  "kernelspec": {
   "display_name": "Python 3 (ipykernel)",
   "language": "python",
   "name": "python3"
  },
  "language_info": {
   "codemirror_mode": {
    "name": "ipython",
    "version": 3
   },
   "file_extension": ".py",
   "mimetype": "text/x-python",
   "name": "python",
   "nbconvert_exporter": "python",
   "pygments_lexer": "ipython3",
   "version": "3.9.13"
  }
 },
 "nbformat": 4,
 "nbformat_minor": 5
}
